{
 "cells": [
  {
   "cell_type": "markdown",
   "id": "53efdbf7-5b0b-4afb-be07-669a36891ea0",
   "metadata": {},
   "source": [
    "# Stemming = reducing a word to its root/base form by chopping off suffixes without considering grammer to spelling sometimes"
   ]
  },
  {
   "cell_type": "code",
   "execution_count": 1,
   "id": "8e7d05b5-1426-4a7a-8722-276ecff335f5",
   "metadata": {},
   "outputs": [],
   "source": [
    "from nltk.stem import PorterStemmer"
   ]
  },
  {
   "cell_type": "code",
   "execution_count": 2,
   "id": "5df6515b-964f-4603-bda6-be26c8f211de",
   "metadata": {},
   "outputs": [],
   "source": [
    "ps = PorterStemmer()"
   ]
  },
  {
   "cell_type": "code",
   "execution_count": 3,
   "id": "4e562339-4e9c-49ad-9b87-7799c5354697",
   "metadata": {},
   "outputs": [],
   "source": [
    "connect_tokens = [\"connecting\", \"connected\", \"connector\", \"connectivity\", \"connection\", \"connect\", \"connects\"]"
   ]
  },
  {
   "cell_type": "code",
   "execution_count": 4,
   "id": "7071a8f0-0382-44df-a805-827e08c1e741",
   "metadata": {},
   "outputs": [
    {
     "name": "stdout",
     "output_type": "stream",
     "text": [
      "connecting :  connect\n",
      "connected :  connect\n",
      "connector :  connector\n",
      "connectivity :  connect\n",
      "connection :  connect\n",
      "connect :  connect\n",
      "connects :  connect\n"
     ]
    }
   ],
   "source": [
    "for t in connect_tokens:\n",
    "    print(t, \": \", ps.stem(t))"
   ]
  },
  {
   "cell_type": "code",
   "execution_count": 5,
   "id": "d39f7cbb-cefc-46d2-b9e7-ec9883575346",
   "metadata": {},
   "outputs": [],
   "source": [
    "learn_tokens = [\"learning\", \"learner\", \"learns\", \"learner\", \"learned\"]"
   ]
  },
  {
   "cell_type": "code",
   "execution_count": 6,
   "id": "a5460d7b-3b02-49c5-b483-b57e9d7bd9ea",
   "metadata": {},
   "outputs": [
    {
     "name": "stdout",
     "output_type": "stream",
     "text": [
      "learning :  learn\n",
      "learner :  learner\n",
      "learns :  learn\n",
      "learner :  learner\n",
      "learned :  learn\n"
     ]
    }
   ],
   "source": [
    "for t in learn_tokens:\n",
    "    print(t, \": \", ps.stem(t))"
   ]
  },
  {
   "cell_type": "code",
   "execution_count": null,
   "id": "95c7dff9-f8c0-4794-9ee9-e830ed0ff035",
   "metadata": {},
   "outputs": [],
   "source": []
  }
 ],
 "metadata": {
  "kernelspec": {
   "display_name": "nlp-env",
   "language": "python",
   "name": "nlp-env"
  },
  "language_info": {
   "codemirror_mode": {
    "name": "ipython",
    "version": 3
   },
   "file_extension": ".py",
   "mimetype": "text/x-python",
   "name": "python",
   "nbconvert_exporter": "python",
   "pygments_lexer": "ipython3",
   "version": "3.11.13"
  }
 },
 "nbformat": 4,
 "nbformat_minor": 5
}
