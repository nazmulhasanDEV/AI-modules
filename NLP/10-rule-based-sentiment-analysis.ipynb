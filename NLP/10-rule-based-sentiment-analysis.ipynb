{
 "cells": [
  {
   "cell_type": "markdown",
   "id": "ba3e8113-aa94-4dd2-9f91-783832e5fb5c",
   "metadata": {},
   "source": [
    "## 4.2 Rule-based Sentiment Analysis"
   ]
  },
  {
   "cell_type": "markdown",
   "id": "9bf91488-0bb2-4996-bfda-041c90679e8b",
   "metadata": {},
   "source": [
    "### Textblob"
   ]
  },
  {
   "cell_type": "code",
   "execution_count": 40,
   "id": "e5db4105-79c9-446a-84a3-1eeb628fc53a",
   "metadata": {},
   "outputs": [],
   "source": [
    "from textblob import TextBlob"
   ]
  },
  {
   "cell_type": "code",
   "execution_count": 41,
   "id": "8c6690ef-8784-4496-8308-3c1f993b6055",
   "metadata": {},
   "outputs": [],
   "source": [
    "sentence_1 = \"i had a great time at the movie it was really funny\"\n",
    "sentence_2 = \"i had a great time at the movie but the parking was terrible\"\n",
    "sentence_3 = \"i had a great time at the movie but the parking wasn't great\"\n",
    "sentence_4 = \"i went to see a movie\""
   ]
  },
  {
   "cell_type": "code",
   "execution_count": 42,
   "id": "d198d7d5-8938-4787-bc79-9f24b1951029",
   "metadata": {},
   "outputs": [
    {
     "name": "stdout",
     "output_type": "stream",
     "text": [
      "i had a great time at the movie it was really funny\n",
      "0.525\n"
     ]
    }
   ],
   "source": [
    "print(sentence_1)\n",
    "sentiment_score = TextBlob(sentence_1)\n",
    "print(sentiment_score.sentiment.polarity)"
   ]
  },
  {
   "cell_type": "markdown",
   "id": "4e7cf14a-b535-451c-acc1-1353066d456d",
   "metadata": {},
   "source": [
    "#### TextBlob returns a score between -1 and 1, where negative scores indicate negative sentiment, and positive scores indicate positive sentiment."
   ]
  },
  {
   "cell_type": "code",
   "execution_count": 43,
   "id": "04a2e8ce-c2c9-4bd3-b63e-ff0fd2e8e3a3",
   "metadata": {},
   "outputs": [
    {
     "name": "stdout",
     "output_type": "stream",
     "text": [
      "i had a great time at the movie but the parking was terrible\n",
      "-0.09999999999999998\n"
     ]
    }
   ],
   "source": [
    "print(sentence_2)\n",
    "sentiment_score_2 = TextBlob(sentence_2)\n",
    "print(sentiment_score_2.sentiment.polarity)"
   ]
  },
  {
   "cell_type": "code",
   "execution_count": 44,
   "id": "25dff63e-3e96-46f5-be12-ddf6bb804690",
   "metadata": {},
   "outputs": [
    {
     "name": "stdout",
     "output_type": "stream",
     "text": [
      "i had a great time at the movie but the parking wasn't great\n",
      "0.8\n"
     ]
    }
   ],
   "source": [
    "print(sentence_3)\n",
    "sentiment_score_3 = TextBlob(sentence_3)\n",
    "print(sentiment_score_3.sentiment.polarity)"
   ]
  },
  {
   "cell_type": "code",
   "execution_count": 45,
   "id": "2c89830a-ccca-4b00-a721-ebbe173203e5",
   "metadata": {},
   "outputs": [
    {
     "name": "stdout",
     "output_type": "stream",
     "text": [
      "i went to see a movie\n",
      "0.0\n"
     ]
    }
   ],
   "source": [
    "print(sentence_4)\n",
    "sentiment_score_4 = TextBlob(sentence_4)\n",
    "print(sentiment_score_4.sentiment.polarity)"
   ]
  },
  {
   "cell_type": "markdown",
   "id": "be6623f9-62a3-4c39-9e8b-f06d9da2dd95",
   "metadata": {},
   "source": [
    "### VADER"
   ]
  },
  {
   "cell_type": "code",
   "execution_count": 46,
   "id": "7e5becc7-98ba-48e4-a857-a203f8d0ff4f",
   "metadata": {},
   "outputs": [],
   "source": [
    "from vaderSentiment.vaderSentiment import SentimentIntensityAnalyzer"
   ]
  },
  {
   "cell_type": "code",
   "execution_count": 47,
   "id": "cf5c5822-a871-4e73-a595-35744c227a76",
   "metadata": {},
   "outputs": [],
   "source": [
    "vader_sentiment = SentimentIntensityAnalyzer()"
   ]
  },
  {
   "cell_type": "code",
   "execution_count": 48,
   "id": "aeb857eb-ee89-43ea-9e58-322bba934b12",
   "metadata": {},
   "outputs": [
    {
     "name": "stdout",
     "output_type": "stream",
     "text": [
      "i had a great time at the movie it was really funny\n",
      "{'neg': 0.0, 'neu': 0.578, 'pos': 0.422, 'compound': 0.807}\n"
     ]
    }
   ],
   "source": [
    "print(sentence_1)\n",
    "print(vader_sentiment.polarity_scores(sentence_1))"
   ]
  },
  {
   "cell_type": "markdown",
   "id": "52e66ab6-23d2-4034-935b-4b30e0fd9a1a",
   "metadata": {},
   "source": [
    "#### The compond score gives us the overall score for the text and is scored the same as TextBlob between -1 and 1."
   ]
  },
  {
   "cell_type": "code",
   "execution_count": 49,
   "id": "af256f9f-9b92-43cd-9be7-b8569c3cca8d",
   "metadata": {},
   "outputs": [
    {
     "name": "stdout",
     "output_type": "stream",
     "text": [
      "i had a great time at the movie but the parking was terrible\n",
      "{'neg': 0.234, 'neu': 0.621, 'pos': 0.144, 'compound': -0.3818}\n"
     ]
    }
   ],
   "source": [
    "print(sentence_2)\n",
    "print(vader_sentiment.polarity_scores(sentence_2)) "
   ]
  },
  {
   "cell_type": "code",
   "execution_count": 51,
   "id": "903d298b-aad7-41e1-9895-54b317f3f18d",
   "metadata": {},
   "outputs": [
    {
     "name": "stdout",
     "output_type": "stream",
     "text": [
      "i had a great time at the movie but the parking wasn't great\n",
      "{'neg': 0.247, 'neu': 0.611, 'pos': 0.142, 'compound': -0.4387}\n"
     ]
    }
   ],
   "source": [
    "print(sentence_3)\n",
    "print(vader_sentiment.polarity_scores(sentence_3)) "
   ]
  },
  {
   "cell_type": "code",
   "execution_count": 52,
   "id": "bc952430-5202-44f4-bff8-a459029a9469",
   "metadata": {},
   "outputs": [
    {
     "name": "stdout",
     "output_type": "stream",
     "text": [
      "i went to see a movie\n",
      "{'neg': 0.0, 'neu': 1.0, 'pos': 0.0, 'compound': 0.0}\n"
     ]
    }
   ],
   "source": [
    "print(sentence_4)\n",
    "print(vader_sentiment.polarity_scores(sentence_4)) "
   ]
  },
  {
   "cell_type": "code",
   "execution_count": null,
   "id": "f321add3-bd42-4060-af36-d8c55a05ddd4",
   "metadata": {},
   "outputs": [],
   "source": []
  }
 ],
 "metadata": {
  "kernelspec": {
   "display_name": "Python (nlp-env)",
   "language": "python",
   "name": "nlp-env"
  },
  "language_info": {
   "codemirror_mode": {
    "name": "ipython",
    "version": 3
   },
   "file_extension": ".py",
   "mimetype": "text/x-python",
   "name": "python",
   "nbconvert_exporter": "python",
   "pygments_lexer": "ipython3",
   "version": "3.11.13"
  }
 },
 "nbformat": 4,
 "nbformat_minor": 5
}
