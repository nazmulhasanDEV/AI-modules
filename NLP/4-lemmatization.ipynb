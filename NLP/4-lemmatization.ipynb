{
 "cells": [
  {
   "cell_type": "markdown",
   "id": "93e41989-907c-41ed-bb24-1f4648595e06",
   "metadata": {},
   "source": [
    "### Lemmatization = reducing a word to its base or dictionary form (called a lemma), but in a linguistically correct way. Unlike stemming (which chops suffixes blindly), lemmatization uses vocabulary + grammar rules to return real words."
   ]
  },
  {
   "cell_type": "code",
   "execution_count": 36,
   "id": "b5ca1ee9-4f5d-47cc-9f4a-d153886b0a4e",
   "metadata": {
    "scrolled": true
   },
   "outputs": [
    {
     "name": "stderr",
     "output_type": "stream",
     "text": [
      "[nltk_data] Downloading package wordnet to /home/nazmul/nltk_data...\n",
      "[nltk_data]   Package wordnet is already up-to-date!\n"
     ]
    }
   ],
   "source": [
    "import nltk\n",
    "nltk.download(\"wordnet\")\n",
    "from nltk.stem import WordNetLemmatizer"
   ]
  },
  {
   "cell_type": "code",
   "execution_count": 37,
   "id": "5df6515b-964f-4603-bda6-be26c8f211de",
   "metadata": {},
   "outputs": [],
   "source": [
    "lemmatizer = WordNetLemmatizer()"
   ]
  },
  {
   "cell_type": "code",
   "execution_count": 38,
   "id": "b62b3400-2238-4711-8eab-382d352ecc07",
   "metadata": {},
   "outputs": [],
   "source": [
    "connect_tokens = [\"connecting\", \"connected\", \"connector\", \"connectivity\", \"connection\", \"connect\", \"connects\", \"connects\", \"connect\"]"
   ]
  },
  {
   "cell_type": "code",
   "execution_count": 42,
   "id": "7071a8f0-0382-44df-a805-827e08c1e741",
   "metadata": {},
   "outputs": [
    {
     "name": "stdout",
     "output_type": "stream",
     "text": [
      "connecting :  connect\n",
      "connected :  connect\n",
      "connector :  connector\n",
      "connectivity :  connectivity\n",
      "connection :  connection\n",
      "connect :  connect\n",
      "connects :  connect\n",
      "connects :  connect\n",
      "connect :  connect\n"
     ]
    }
   ],
   "source": [
    "for t in connect_tokens:\n",
    "    print(t, \": \", lemmatizer.lemmatize(t, pos=\"v\")) # by default pos=n which does not change that much. see below example"
   ]
  },
  {
   "cell_type": "code",
   "execution_count": 43,
   "id": "d39f7cbb-cefc-46d2-b9e7-ec9883575346",
   "metadata": {},
   "outputs": [],
   "source": [
    "learn_tokens = [\"learning\", \"learned\", \"learner\", \"learns\", \"learner\", \"learned\"]"
   ]
  },
  {
   "cell_type": "code",
   "execution_count": 44,
   "id": "a5460d7b-3b02-49c5-b483-b57e9d7bd9ea",
   "metadata": {},
   "outputs": [
    {
     "name": "stdout",
     "output_type": "stream",
     "text": [
      "learning :  learning\n",
      "learned :  learned\n",
      "learner :  learner\n",
      "learns :  learns\n",
      "learner :  learner\n",
      "learned :  learned\n"
     ]
    }
   ],
   "source": [
    "for t in learn_tokens:\n",
    "    print(t, \": \", lemmatizer.lemmatize(t))"
   ]
  },
  {
   "cell_type": "code",
   "execution_count": null,
   "id": "95c7dff9-f8c0-4794-9ee9-e830ed0ff035",
   "metadata": {},
   "outputs": [],
   "source": []
  }
 ],
 "metadata": {
  "kernelspec": {
   "display_name": "nlp-env",
   "language": "python",
   "name": "nlp-env"
  },
  "language_info": {
   "codemirror_mode": {
    "name": "ipython",
    "version": 3
   },
   "file_extension": ".py",
   "mimetype": "text/x-python",
   "name": "python",
   "nbconvert_exporter": "python",
   "pygments_lexer": "ipython3",
   "version": "3.11.13"
  }
 },
 "nbformat": 4,
 "nbformat_minor": 5
}
